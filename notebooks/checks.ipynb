{
 "cells": [
  {
   "cell_type": "code",
   "execution_count": 2,
   "metadata": {},
   "outputs": [
    {
     "name": "stdout",
     "output_type": "stream",
     "text": [
      "ArticleId\n",
      "48672457         3\n",
      "news-44876188    1\n",
      "news-47330754    1\n",
      "news-48346492    1\n",
      "news-48673766    3\n",
      "dtype: int64\n"
     ]
    }
   ],
   "source": [
    "import pandas as pd\n",
    "\n",
    "df = pd.read_csv(\"/home/salkhon/Documents/thesis/data/images/amharic/amharic.csv\")\n",
    "print(df.loc[df[\"ImageStatus\"] == \"EXCEPTION\"].groupby(\"ArticleId\").size())"
   ]
  },
  {
   "cell_type": "code",
   "execution_count": 13,
   "metadata": {},
   "outputs": [
    {
     "name": "stdout",
     "output_type": "stream",
     "text": [
      "/home/salkhon/Documents/thesis/data/images/amharic/news-53935478/FILTERED/_111368489_cps_web_banner_top_640-nc.png\n"
     ]
    }
   ],
   "source": [
    "from PIL import Image\n",
    "import random\n",
    "from pathlib import Path\n",
    "\n",
    "lang_dir = Path(\"/home/salkhon/Documents/thesis/data/images/amharic/\")\n",
    "impath = lang_dir/df.iloc[random.randint(0, 2000)][\"ImagePath\"]\n",
    "img = Image.open(impath)\n",
    "print(impath)\n",
    "img.show()"
   ]
  },
  {
   "cell_type": "code",
   "execution_count": null,
   "metadata": {},
   "outputs": [],
   "source": []
  }
 ],
 "metadata": {
  "kernelspec": {
   "display_name": "general",
   "language": "python",
   "name": "python3"
  },
  "language_info": {
   "codemirror_mode": {
    "name": "ipython",
    "version": 3
   },
   "file_extension": ".py",
   "mimetype": "text/x-python",
   "name": "python",
   "nbconvert_exporter": "python",
   "pygments_lexer": "ipython3",
   "version": "3.11.4"
  },
  "orig_nbformat": 4
 },
 "nbformat": 4,
 "nbformat_minor": 2
}
