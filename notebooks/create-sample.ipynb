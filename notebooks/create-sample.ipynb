{
 "cells": [
  {
   "cell_type": "code",
   "execution_count": 1,
   "metadata": {},
   "outputs": [],
   "source": [
    "from pathlib import Path\n",
    "import pandas as pd\n",
    "\n",
    "ENGLISH_PATH = Path(\"/home/salkhon/Documents/thesis/data/images/english\")\n",
    "\n",
    "english_df = pd.read_csv(ENGLISH_PATH / \"english.csv\")"
   ]
  },
  {
   "cell_type": "code",
   "execution_count": 2,
   "metadata": {},
   "outputs": [
    {
     "name": "stdout",
     "output_type": "stream",
     "text": [
      "Num rows 1014653\n"
     ]
    }
   ],
   "source": [
    "print(\"Num rows\", len(english_df))"
   ]
  },
  {
   "cell_type": "code",
   "execution_count": 3,
   "metadata": {},
   "outputs": [
    {
     "data": {
      "text/plain": [
       "320722"
      ]
     },
     "execution_count": 3,
     "metadata": {},
     "output_type": "execute_result"
    }
   ],
   "source": [
    "english_df[\"ArticleId\"].nunique()"
   ]
  },
  {
   "cell_type": "code",
   "execution_count": 4,
   "metadata": {},
   "outputs": [
    {
     "data": {
      "text/plain": [
       "320722"
      ]
     },
     "execution_count": 4,
     "metadata": {},
     "output_type": "execute_result"
    }
   ],
   "source": [
    "len(english_df[english_df[\"ArticleIdx\"] == 0])"
   ]
  },
  {
   "cell_type": "code",
   "execution_count": 5,
   "metadata": {},
   "outputs": [],
   "source": [
    "# take 14k articles that have the first image as useful, 10k train, 2k dev, 2k test\n",
    "first_useful_df = english_df[\n",
    "    (english_df[\"ArticleIdx\"] == 0) & (english_df[\"ImageStatus\"] == \"USEFUL\")\n",
    "]"
   ]
  },
  {
   "cell_type": "code",
   "execution_count": 6,
   "metadata": {},
   "outputs": [
    {
     "name": "stdout",
     "output_type": "stream",
     "text": [
      "288824\n"
     ]
    }
   ],
   "source": [
    "print(len(first_useful_df))"
   ]
  },
  {
   "cell_type": "code",
   "execution_count": 7,
   "metadata": {},
   "outputs": [
    {
     "name": "stdout",
     "output_type": "stream",
     "text": [
      "14000\n"
     ]
    }
   ],
   "source": [
    "sample_df = first_useful_df.sample(n=14000, random_state=42)\n",
    "print(len(sample_df))"
   ]
  },
  {
   "cell_type": "code",
   "execution_count": 8,
   "metadata": {},
   "outputs": [],
   "source": [
    "# dev_df = sample_df.sample(n=2000, random_state=42)\n",
    "# sample_df = sample_df.drop(dev_df.index)\n",
    "# print(len(sample_df), len(dev_df))"
   ]
  },
  {
   "cell_type": "code",
   "execution_count": 9,
   "metadata": {},
   "outputs": [],
   "source": [
    "# test_df = sample_df.sample(n=2000, random_state=42)\n",
    "# sample_df = sample_df.drop(test_df.index)\n",
    "# print(len(sample_df), len(test_df))"
   ]
  },
  {
   "cell_type": "code",
   "execution_count": 10,
   "metadata": {},
   "outputs": [],
   "source": [
    "# train_df = sample_df\n",
    "# print(len(train_df))"
   ]
  },
  {
   "cell_type": "code",
   "execution_count": 11,
   "metadata": {},
   "outputs": [
    {
     "name": "stdout",
     "output_type": "stream",
     "text": [
      "<class 'pandas.core.frame.DataFrame'>\n",
      "Int64Index: 14000 entries, 625867 to 216068\n",
      "Data columns (total 13 columns):\n",
      " #   Column            Non-Null Count  Dtype  \n",
      "---  ------            --------------  -----  \n",
      " 0   ImageId           14000 non-null  object \n",
      " 1   ImageUrl          14000 non-null  object \n",
      " 2   ArticleId         14000 non-null  object \n",
      " 3   ArticleLang       14000 non-null  object \n",
      " 4   ArticleIdx        14000 non-null  int64  \n",
      " 5   ArticleUrl        14000 non-null  object \n",
      " 6   ImageStatus       14000 non-null  object \n",
      " 7   ImagePath         14000 non-null  object \n",
      " 8   ImageFileSize     14000 non-null  float64\n",
      " 9   ImageFormat       14000 non-null  object \n",
      " 10  ImageWidth        14000 non-null  float64\n",
      " 11  ImageHeight       14000 non-null  float64\n",
      " 12  ImageAspectRatio  14000 non-null  float64\n",
      "dtypes: float64(4), int64(1), object(8)\n",
      "memory usage: 1.5+ MB\n"
     ]
    }
   ],
   "source": [
    "sample_df.info()"
   ]
  },
  {
   "cell_type": "code",
   "execution_count": 12,
   "metadata": {},
   "outputs": [
    {
     "data": {
      "text/plain": [
       "ImageId             14000\n",
       "ImageUrl            13801\n",
       "ArticleId           14000\n",
       "ArticleLang             1\n",
       "ArticleIdx              1\n",
       "ArticleUrl          14000\n",
       "ImageStatus             1\n",
       "ImagePath           14000\n",
       "ImageFileSize       13198\n",
       "ImageFormat             4\n",
       "ImageWidth             87\n",
       "ImageHeight           263\n",
       "ImageAspectRatio      311\n",
       "dtype: int64"
      ]
     },
     "execution_count": 12,
     "metadata": {},
     "output_type": "execute_result"
    }
   ],
   "source": [
    "sample_df.nunique()"
   ]
  },
  {
   "cell_type": "code",
   "execution_count": 13,
   "metadata": {},
   "outputs": [],
   "source": [
    "# print(dev_df.info())\n",
    "# print(dev_df.describe())\n",
    "# print(dev_df.nunique())"
   ]
  },
  {
   "cell_type": "markdown",
   "metadata": {},
   "source": [
    "Only sample unique Image URLS"
   ]
  },
  {
   "cell_type": "code",
   "execution_count": 14,
   "metadata": {},
   "outputs": [
    {
     "name": "stdout",
     "output_type": "stream",
     "text": [
      "288824\n",
      "288824\n"
     ]
    }
   ],
   "source": [
    "print(len(first_useful_df))\n",
    "first_useful_df = first_useful_df.sample(frac=1, random_state=42)  # shuffle\n",
    "print(len(first_useful_df))"
   ]
  },
  {
   "cell_type": "code",
   "execution_count": 15,
   "metadata": {},
   "outputs": [],
   "source": [
    "first_useful_df = first_useful_df.drop_duplicates(subset=\"ImageUrl\", keep=\"first\")"
   ]
  },
  {
   "cell_type": "code",
   "execution_count": 16,
   "metadata": {},
   "outputs": [
    {
     "name": "stdout",
     "output_type": "stream",
     "text": [
      "14000\n"
     ]
    }
   ],
   "source": [
    "sample_df = first_useful_df.sample(n=14000, random_state=42)\n",
    "print(len(sample_df))"
   ]
  },
  {
   "cell_type": "code",
   "execution_count": 17,
   "metadata": {},
   "outputs": [
    {
     "data": {
      "text/plain": [
       "ImageId             14000\n",
       "ImageUrl            14000\n",
       "ArticleId           14000\n",
       "ArticleLang             1\n",
       "ArticleIdx              1\n",
       "ArticleUrl          14000\n",
       "ImageStatus             1\n",
       "ImagePath           14000\n",
       "ImageFileSize       13406\n",
       "ImageFormat             4\n",
       "ImageWidth             87\n",
       "ImageHeight           274\n",
       "ImageAspectRatio      348\n",
       "dtype: int64"
      ]
     },
     "execution_count": 17,
     "metadata": {},
     "output_type": "execute_result"
    }
   ],
   "source": [
    "sample_df.nunique()"
   ]
  },
  {
   "cell_type": "code",
   "execution_count": 18,
   "metadata": {},
   "outputs": [
    {
     "data": {
      "text/html": [
       "<div>\n",
       "<style scoped>\n",
       "    .dataframe tbody tr th:only-of-type {\n",
       "        vertical-align: middle;\n",
       "    }\n",
       "\n",
       "    .dataframe tbody tr th {\n",
       "        vertical-align: top;\n",
       "    }\n",
       "\n",
       "    .dataframe thead th {\n",
       "        text-align: right;\n",
       "    }\n",
       "</style>\n",
       "<table border=\"1\" class=\"dataframe\">\n",
       "  <thead>\n",
       "    <tr style=\"text-align: right;\">\n",
       "      <th></th>\n",
       "      <th>ImageId</th>\n",
       "      <th>ImageUrl</th>\n",
       "      <th>ArticleId</th>\n",
       "      <th>ArticleLang</th>\n",
       "      <th>ArticleIdx</th>\n",
       "      <th>ArticleUrl</th>\n",
       "      <th>ImageStatus</th>\n",
       "      <th>ImagePath</th>\n",
       "      <th>ImageFileSize</th>\n",
       "      <th>ImageFormat</th>\n",
       "      <th>ImageWidth</th>\n",
       "      <th>ImageHeight</th>\n",
       "      <th>ImageAspectRatio</th>\n",
       "    </tr>\n",
       "  </thead>\n",
       "  <tbody>\n",
       "    <tr>\n",
       "      <th>864690</th>\n",
       "      <td>uk-scotland-highlands-islands-53945413_0</td>\n",
       "      <td>https://c.files.bbci.co.uk/1184B/production/_1...</td>\n",
       "      <td>uk-scotland-highlands-islands-53945413</td>\n",
       "      <td>english</td>\n",
       "      <td>0</td>\n",
       "      <td>https://www.bbc.com/news/uk-scotland-highlands...</td>\n",
       "      <td>USEFUL</td>\n",
       "      <td>uk-scotland-highlands-islands-53945413/USEFUL/...</td>\n",
       "      <td>44879.0</td>\n",
       "      <td>JPEG</td>\n",
       "      <td>976.0</td>\n",
       "      <td>549.0</td>\n",
       "      <td>1.7778</td>\n",
       "    </tr>\n",
       "    <tr>\n",
       "      <th>1013797</th>\n",
       "      <td>business-50461302_0</td>\n",
       "      <td>https://c.files.bbci.co.uk/16528/production/_1...</td>\n",
       "      <td>business-50461302</td>\n",
       "      <td>english</td>\n",
       "      <td>0</td>\n",
       "      <td>https://www.bbc.com/news/business-50461302</td>\n",
       "      <td>USEFUL</td>\n",
       "      <td>business-50461302/USEFUL/_109323419_americanai...</td>\n",
       "      <td>73440.0</td>\n",
       "      <td>JPEG</td>\n",
       "      <td>976.0</td>\n",
       "      <td>549.0</td>\n",
       "      <td>1.7778</td>\n",
       "    </tr>\n",
       "    <tr>\n",
       "      <th>119273</th>\n",
       "      <td>uk-25078779_0</td>\n",
       "      <td>https://news.bbcimg.co.uk/media/images/7131500...</td>\n",
       "      <td>uk-25078779</td>\n",
       "      <td>english</td>\n",
       "      <td>0</td>\n",
       "      <td>https://www.bbc.com/news/uk-25078779</td>\n",
       "      <td>USEFUL</td>\n",
       "      <td>uk-25078779/USEFUL/_71315597_71315596.jpg</td>\n",
       "      <td>32117.0</td>\n",
       "      <td>JPEG</td>\n",
       "      <td>464.0</td>\n",
       "      <td>261.0</td>\n",
       "      <td>1.7778</td>\n",
       "    </tr>\n",
       "    <tr>\n",
       "      <th>453347</th>\n",
       "      <td>uk-45411941_0</td>\n",
       "      <td>https://c.files.bbci.co.uk/158C4/production/_1...</td>\n",
       "      <td>uk-45411941</td>\n",
       "      <td>english</td>\n",
       "      <td>0</td>\n",
       "      <td>https://www.bbc.com/news/uk-45411941</td>\n",
       "      <td>USEFUL</td>\n",
       "      <td>uk-45411941/USEFUL/_103206288_stonethrow.jpg</td>\n",
       "      <td>81427.0</td>\n",
       "      <td>JPEG</td>\n",
       "      <td>976.0</td>\n",
       "      <td>549.0</td>\n",
       "      <td>1.7778</td>\n",
       "    </tr>\n",
       "    <tr>\n",
       "      <th>133700</th>\n",
       "      <td>entertainment-arts-10659380_0</td>\n",
       "      <td>https://news.bbcimg.co.uk/media/images/4838100...</td>\n",
       "      <td>entertainment-arts-10659380</td>\n",
       "      <td>english</td>\n",
       "      <td>0</td>\n",
       "      <td>https://www.bbc.com/news/entertainment-arts-10...</td>\n",
       "      <td>USEFUL</td>\n",
       "      <td>entertainment-arts-10659380/USEFUL/_48381055_j...</td>\n",
       "      <td>12487.0</td>\n",
       "      <td>JPEG</td>\n",
       "      <td>304.0</td>\n",
       "      <td>171.0</td>\n",
       "      <td>1.7778</td>\n",
       "    </tr>\n",
       "  </tbody>\n",
       "</table>\n",
       "</div>"
      ],
      "text/plain": [
       "                                          ImageId  \\\n",
       "864690   uk-scotland-highlands-islands-53945413_0   \n",
       "1013797                       business-50461302_0   \n",
       "119273                              uk-25078779_0   \n",
       "453347                              uk-45411941_0   \n",
       "133700              entertainment-arts-10659380_0   \n",
       "\n",
       "                                                  ImageUrl  \\\n",
       "864690   https://c.files.bbci.co.uk/1184B/production/_1...   \n",
       "1013797  https://c.files.bbci.co.uk/16528/production/_1...   \n",
       "119273   https://news.bbcimg.co.uk/media/images/7131500...   \n",
       "453347   https://c.files.bbci.co.uk/158C4/production/_1...   \n",
       "133700   https://news.bbcimg.co.uk/media/images/4838100...   \n",
       "\n",
       "                                      ArticleId ArticleLang  ArticleIdx  \\\n",
       "864690   uk-scotland-highlands-islands-53945413     english           0   \n",
       "1013797                       business-50461302     english           0   \n",
       "119273                              uk-25078779     english           0   \n",
       "453347                              uk-45411941     english           0   \n",
       "133700              entertainment-arts-10659380     english           0   \n",
       "\n",
       "                                                ArticleUrl ImageStatus  \\\n",
       "864690   https://www.bbc.com/news/uk-scotland-highlands...      USEFUL   \n",
       "1013797         https://www.bbc.com/news/business-50461302      USEFUL   \n",
       "119273                https://www.bbc.com/news/uk-25078779      USEFUL   \n",
       "453347                https://www.bbc.com/news/uk-45411941      USEFUL   \n",
       "133700   https://www.bbc.com/news/entertainment-arts-10...      USEFUL   \n",
       "\n",
       "                                                 ImagePath  ImageFileSize  \\\n",
       "864690   uk-scotland-highlands-islands-53945413/USEFUL/...        44879.0   \n",
       "1013797  business-50461302/USEFUL/_109323419_americanai...        73440.0   \n",
       "119273           uk-25078779/USEFUL/_71315597_71315596.jpg        32117.0   \n",
       "453347        uk-45411941/USEFUL/_103206288_stonethrow.jpg        81427.0   \n",
       "133700   entertainment-arts-10659380/USEFUL/_48381055_j...        12487.0   \n",
       "\n",
       "        ImageFormat  ImageWidth  ImageHeight  ImageAspectRatio  \n",
       "864690         JPEG       976.0        549.0            1.7778  \n",
       "1013797        JPEG       976.0        549.0            1.7778  \n",
       "119273         JPEG       464.0        261.0            1.7778  \n",
       "453347         JPEG       976.0        549.0            1.7778  \n",
       "133700         JPEG       304.0        171.0            1.7778  "
      ]
     },
     "execution_count": 18,
     "metadata": {},
     "output_type": "execute_result"
    }
   ],
   "source": [
    "sample_df.head()"
   ]
  },
  {
   "cell_type": "code",
   "execution_count": 19,
   "metadata": {},
   "outputs": [
    {
     "data": {
      "text/html": [
       "<div>\n",
       "<style scoped>\n",
       "    .dataframe tbody tr th:only-of-type {\n",
       "        vertical-align: middle;\n",
       "    }\n",
       "\n",
       "    .dataframe tbody tr th {\n",
       "        vertical-align: top;\n",
       "    }\n",
       "\n",
       "    .dataframe thead th {\n",
       "        text-align: right;\n",
       "    }\n",
       "</style>\n",
       "<table border=\"1\" class=\"dataframe\">\n",
       "  <thead>\n",
       "    <tr style=\"text-align: right;\">\n",
       "      <th></th>\n",
       "      <th>ImageId</th>\n",
       "      <th>ImageUrl</th>\n",
       "      <th>ArticleId</th>\n",
       "      <th>ArticleLang</th>\n",
       "      <th>ArticleIdx</th>\n",
       "      <th>ArticleUrl</th>\n",
       "      <th>ImageStatus</th>\n",
       "      <th>ImagePath</th>\n",
       "      <th>ImageFileSize</th>\n",
       "      <th>ImageFormat</th>\n",
       "      <th>ImageWidth</th>\n",
       "      <th>ImageHeight</th>\n",
       "      <th>ImageAspectRatio</th>\n",
       "    </tr>\n",
       "  </thead>\n",
       "  <tbody>\n",
       "    <tr>\n",
       "      <th>21</th>\n",
       "      <td>science-environment-36195167_0</td>\n",
       "      <td>https://c.files.bbci.co.uk/9720/production/_89...</td>\n",
       "      <td>science-environment-36195167</td>\n",
       "      <td>english</td>\n",
       "      <td>0</td>\n",
       "      <td>https://www.bbc.com/news/science-environment-3...</td>\n",
       "      <td>USEFUL</td>\n",
       "      <td>science-environment-36195167/USEFUL/_89588683_...</td>\n",
       "      <td>96652.0</td>\n",
       "      <td>JPEG</td>\n",
       "      <td>976.0</td>\n",
       "      <td>549.0</td>\n",
       "      <td>1.7778</td>\n",
       "    </tr>\n",
       "    <tr>\n",
       "      <th>33</th>\n",
       "      <td>uk-wales-48283792_0</td>\n",
       "      <td>https://c.files.bbci.co.uk/14CFF/production/_1...</td>\n",
       "      <td>uk-wales-48283792</td>\n",
       "      <td>english</td>\n",
       "      <td>0</td>\n",
       "      <td>https://www.bbc.com/news/uk-wales-48283792</td>\n",
       "      <td>USEFUL</td>\n",
       "      <td>uk-wales-48283792/USEFUL/_106974258_lauren.jpg</td>\n",
       "      <td>104914.0</td>\n",
       "      <td>JPEG</td>\n",
       "      <td>976.0</td>\n",
       "      <td>549.0</td>\n",
       "      <td>1.7778</td>\n",
       "    </tr>\n",
       "    <tr>\n",
       "      <th>61</th>\n",
       "      <td>uk-40645645_0</td>\n",
       "      <td>https://c.files.bbci.co.uk/13F8/production/_97...</td>\n",
       "      <td>uk-40645645</td>\n",
       "      <td>english</td>\n",
       "      <td>0</td>\n",
       "      <td>https://www.bbc.com/news/uk-40645645</td>\n",
       "      <td>USEFUL</td>\n",
       "      <td>uk-40645645/USEFUL/_97021150_ella2.jpg</td>\n",
       "      <td>74072.0</td>\n",
       "      <td>JPEG</td>\n",
       "      <td>640.0</td>\n",
       "      <td>640.0</td>\n",
       "      <td>1.0000</td>\n",
       "    </tr>\n",
       "    <tr>\n",
       "      <th>170</th>\n",
       "      <td>business-32618391_0</td>\n",
       "      <td>https://news.bbcimg.co.uk/media/images/8282100...</td>\n",
       "      <td>business-32618391</td>\n",
       "      <td>english</td>\n",
       "      <td>0</td>\n",
       "      <td>https://www.bbc.com/news/business-32618391</td>\n",
       "      <td>USEFUL</td>\n",
       "      <td>business-32618391/USEFUL/_82821348_82827687.jpg</td>\n",
       "      <td>63904.0</td>\n",
       "      <td>JPEG</td>\n",
       "      <td>624.0</td>\n",
       "      <td>351.0</td>\n",
       "      <td>1.7778</td>\n",
       "    </tr>\n",
       "    <tr>\n",
       "      <th>303</th>\n",
       "      <td>uk-40735851_0</td>\n",
       "      <td>https://c.files.bbci.co.uk/BB57/production/_97...</td>\n",
       "      <td>uk-40735851</td>\n",
       "      <td>english</td>\n",
       "      <td>0</td>\n",
       "      <td>https://www.bbc.com/news/uk-40735851</td>\n",
       "      <td>USEFUL</td>\n",
       "      <td>uk-40735851/USEFUL/_97095974_grenfellgettyimag...</td>\n",
       "      <td>144943.0</td>\n",
       "      <td>JPEG</td>\n",
       "      <td>976.0</td>\n",
       "      <td>549.0</td>\n",
       "      <td>1.7778</td>\n",
       "    </tr>\n",
       "  </tbody>\n",
       "</table>\n",
       "</div>"
      ],
      "text/plain": [
       "                            ImageId  \\\n",
       "21   science-environment-36195167_0   \n",
       "33              uk-wales-48283792_0   \n",
       "61                    uk-40645645_0   \n",
       "170             business-32618391_0   \n",
       "303                   uk-40735851_0   \n",
       "\n",
       "                                              ImageUrl  \\\n",
       "21   https://c.files.bbci.co.uk/9720/production/_89...   \n",
       "33   https://c.files.bbci.co.uk/14CFF/production/_1...   \n",
       "61   https://c.files.bbci.co.uk/13F8/production/_97...   \n",
       "170  https://news.bbcimg.co.uk/media/images/8282100...   \n",
       "303  https://c.files.bbci.co.uk/BB57/production/_97...   \n",
       "\n",
       "                        ArticleId ArticleLang  ArticleIdx  \\\n",
       "21   science-environment-36195167     english           0   \n",
       "33              uk-wales-48283792     english           0   \n",
       "61                    uk-40645645     english           0   \n",
       "170             business-32618391     english           0   \n",
       "303                   uk-40735851     english           0   \n",
       "\n",
       "                                            ArticleUrl ImageStatus  \\\n",
       "21   https://www.bbc.com/news/science-environment-3...      USEFUL   \n",
       "33          https://www.bbc.com/news/uk-wales-48283792      USEFUL   \n",
       "61                https://www.bbc.com/news/uk-40645645      USEFUL   \n",
       "170         https://www.bbc.com/news/business-32618391      USEFUL   \n",
       "303               https://www.bbc.com/news/uk-40735851      USEFUL   \n",
       "\n",
       "                                             ImagePath  ImageFileSize  \\\n",
       "21   science-environment-36195167/USEFUL/_89588683_...        96652.0   \n",
       "33      uk-wales-48283792/USEFUL/_106974258_lauren.jpg       104914.0   \n",
       "61              uk-40645645/USEFUL/_97021150_ella2.jpg        74072.0   \n",
       "170    business-32618391/USEFUL/_82821348_82827687.jpg        63904.0   \n",
       "303  uk-40735851/USEFUL/_97095974_grenfellgettyimag...       144943.0   \n",
       "\n",
       "    ImageFormat  ImageWidth  ImageHeight  ImageAspectRatio  \n",
       "21         JPEG       976.0        549.0            1.7778  \n",
       "33         JPEG       976.0        549.0            1.7778  \n",
       "61         JPEG       640.0        640.0            1.0000  \n",
       "170        JPEG       624.0        351.0            1.7778  \n",
       "303        JPEG       976.0        549.0            1.7778  "
      ]
     },
     "execution_count": 19,
     "metadata": {},
     "output_type": "execute_result"
    }
   ],
   "source": [
    "sample_df = sample_df.sort_index()\n",
    "sample_df.head()"
   ]
  },
  {
   "cell_type": "code",
   "execution_count": 20,
   "metadata": {},
   "outputs": [],
   "source": [
    "DEST_PATH = Path(\"/home/salkhon/Documents/thesis/english-sample/\")"
   ]
  },
  {
   "cell_type": "code",
   "execution_count": 21,
   "metadata": {},
   "outputs": [],
   "source": [
    "import shutil\n",
    "\n",
    "for idx, row in sample_df.iterrows():\n",
    "    src = Path(ENGLISH_PATH, row[\"ImagePath\"])\n",
    "    row[\"ImagePath\"] = row[\"ImagePath\"].replace(\"USEFUL/\", \"\")\n",
    "    dst = Path(DEST_PATH, row[\"ImagePath\"])\n",
    "    sample_df.at[idx, \"ImagePath\"] = row[\"ImagePath\"]\n",
    "\n",
    "    dst.parent.mkdir(parents=True, exist_ok=True)\n",
    "    shutil.copy(src, dst)"
   ]
  },
  {
   "cell_type": "code",
   "execution_count": null,
   "metadata": {},
   "outputs": [],
   "source": [
    "sample_df.to_csv(DEST_PATH/\"mmxlsum-english-14k.csv\", index=False)"
   ]
  }
 ],
 "metadata": {
  "kernelspec": {
   "display_name": "general",
   "language": "python",
   "name": "python3"
  },
  "language_info": {
   "codemirror_mode": {
    "name": "ipython",
    "version": 3
   },
   "file_extension": ".py",
   "mimetype": "text/x-python",
   "name": "python",
   "nbconvert_exporter": "python",
   "pygments_lexer": "ipython3",
   "version": "3.11.4"
  },
  "orig_nbformat": 4
 },
 "nbformat": 4,
 "nbformat_minor": 2
}
